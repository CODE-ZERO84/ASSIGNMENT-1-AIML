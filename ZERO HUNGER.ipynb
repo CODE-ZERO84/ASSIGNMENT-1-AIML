{
  "nbformat": 4,
  "nbformat_minor": 0,
  "metadata": {
    "colab": {
      "provenance": []
    },
    "kernelspec": {
      "name": "python3",
      "display_name": "Python 3"
    },
    "language_info": {
      "name": "python"
    }
  },
  "cells": [
    {
      "cell_type": "code",
      "execution_count": 1,
      "metadata": {
        "colab": {
          "base_uri": "https://localhost:8080/"
        },
        "id": "NZfNG9uuzZRu",
        "outputId": "9f6064da-8ede-475b-a6bd-a2598b4955e8"
      },
      "outputs": [
        {
          "output_type": "stream",
          "name": "stdout",
          "text": [
            "Mounted at /content/drive\n"
          ]
        }
      ],
      "source": [
        "# Import necessary libraries\n",
        "import pandas as pd\n",
        "from sklearn.model_selection import KFold, cross_val_predict, GridSearchCV\n",
        "from sklearn.ensemble import RandomForestClassifier\n",
        "from sklearn.linear_model import LogisticRegression\n",
        "from sklearn.metrics import confusion_matrix, accuracy_score, precision_score, recall_score, f1_score, roc_auc_score\n",
        "from imblearn.over_sampling import SMOTE\n",
        "from sklearn.preprocessing import LabelEncoder, StandardScaler\n",
        "from google.colab import drive\n",
        "\n",
        "# Mount Google Drive\n",
        "drive.mount('/content/drive')\n",
        "\n",
        "# Load the Excel file\n",
        "file_path = '/content/drive/My Drive/7 nov as_1/Zero_Hunger.xlsx'\n",
        "df = pd.read_excel(file_path)\n"
      ]
    },
    {
      "cell_type": "code",
      "source": [
        "# Step 1: Fill missing values in numeric columns\n",
        "numeric_df = df.select_dtypes(include=['number'])\n",
        "df[numeric_df.columns] = numeric_df.fillna(numeric_df.mean())"
      ],
      "metadata": {
        "id": "fbvfHSal4_ST"
      },
      "execution_count": 4,
      "outputs": []
    },
    {
      "cell_type": "code",
      "source": [
        "# Step 2: Encode categorical variables\n",
        "label_encoder = LabelEncoder()\n",
        "if 'Entity' in df.columns:  # Check if 'Entity' column exists to avoid KeyError\n",
        "    df['Entity'] = label_encoder.fit_transform(df['Entity'])\n",
        "else:\n",
        "    print(\"Error: 'Entity' column not found in data.\")\n"
      ],
      "metadata": {
        "id": "NocTOrLp5EEs"
      },
      "execution_count": 5,
      "outputs": []
    },
    {
      "cell_type": "code",
      "source": [
        "drop_columns = ['Entity', 'Code']  # Only keep necessary columns to drop\n",
        "X = df.drop(columns=drop_columns, errors='ignore')\n",
        "y = df['Prevalence of undernourishment (% of population)']"
      ],
      "metadata": {
        "id": "F_-aYidT5H0x"
      },
      "execution_count": 7,
      "outputs": []
    },
    {
      "cell_type": "code",
      "source": [
        "# Step 4: Apply SMOTE to handle class imbalance\n",
        "smote = SMOTE()\n",
        "X_resampled, y_resampled = smote.fit_resample(X, y)  # Execute this cell first\n",
        "\n"
      ],
      "metadata": {
        "id": "mBEjJaLz6BG3"
      },
      "execution_count": 13,
      "outputs": []
    },
    {
      "cell_type": "code",
      "source": [
        "\n",
        "# Step 5: Feature Scaling\n",
        "scaler = StandardScaler()\n",
        "X_resampled = scaler.fit_transform(X_resampled)\n"
      ],
      "metadata": {
        "id": "IBfkJJkh6Zbo"
      },
      "execution_count": 14,
      "outputs": []
    },
    {
      "cell_type": "code",
      "source": [
        "# Step 6: K-Fold Cross Validation and Hyperparameter Tuning\n",
        "kf = KFold(n_splits=5, shuffle=True, random_state=42)\n"
      ],
      "metadata": {
        "id": "qfGP7Fzl654w"
      },
      "execution_count": 15,
      "outputs": []
    },
    {
      "cell_type": "code",
      "source": [
        "\n",
        "# Define parameter grids for hyperparameter tuning\n",
        "param_grid_rf = {\n",
        "    'n_estimators': [50, 100, 200],\n",
        "    'max_depth': [None, 10, 20],\n",
        "    'min_samples_split': [2, 5, 10]\n",
        "}\n",
        "param_grid_lr = {'C': [0.01, 0.1, 1, 10, 100]}\n",
        "\n",
        "# Dictionary of models with GridSearchCV for hyperparameter tuning\n",
        "models = {\n",
        "    'Logistic Regression': GridSearchCV(LogisticRegression(), param_grid_lr, cv=kf),\n",
        "    'Random Forest': GridSearchCV(RandomForestClassifier(), param_grid_rf, cv=kf)\n",
        "}\n",
        "\n",
        "# Step 7: Cross-validation and metrics calculation\n",
        "results = {}\n",
        "for name, model in models.items():\n",
        "    y_pred = cross_val_predict(model, X_resampled, y_resampled, cv=kf)\n",
        "    accuracy = accuracy_score(y_resampled, y_pred)\n",
        "    precision = precision_score(y_resampled, y_pred)\n",
        "    recall = recall_score(y_resampled, y_pred)\n",
        "    f1 = f1_score(y_resampled, y_pred)\n",
        "    roc_auc = roc_auc_score(y_resampled, y_pred)\n",
        "    conf_matrix = confusion_matrix(y_resampled, y_pred)\n",
        "\n",
        "    results[name] = {\n",
        "        'Accuracy': accuracy,\n",
        "        'Precision': precision,\n",
        "        'Recall': recall,\n",
        "        'F1 Score': f1,\n",
        "        'ROC AUC': roc_auc,\n",
        "        'Confusion Matrix': conf_matrix\n",
        "    }\n",
        "\n",
        "# Display results\n",
        "for model_name, metrics in results.items():\n",
        "    print(f\"Model: {model_name}\")\n",
        "    print(f\"Accuracy: {metrics['Accuracy']:.4f}\")\n",
        "    print(f\"Precision: {metrics['Precision']:.4f}\")\n",
        "    print(f\"Recall: {metrics['Recall']:.4f}\")\n",
        "    print(f\"F1 Score: {metrics['F1 Score']:.4f}\")\n",
        "    print(f\"ROC AUC: {metrics['ROC AUC']:.4f}\")\n",
        "    print(\"Confusion Matrix:\")\n",
        "    print(metrics['Confusion Matrix'])\n",
        "    print(\"\\n\")"
      ],
      "metadata": {
        "colab": {
          "base_uri": "https://localhost:8080/"
        },
        "id": "B5bPXmsI3eCc",
        "outputId": "7a96f28c-316f-46d9-c09e-d6602c54d8aa"
      },
      "execution_count": 16,
      "outputs": [
        {
          "output_type": "stream",
          "name": "stdout",
          "text": [
            "Model: Logistic Regression\n",
            "Accuracy: 0.9813\n",
            "Precision: 1.0000\n",
            "Recall: 0.9626\n",
            "F1 Score: 0.9810\n",
            "ROC AUC: 0.9813\n",
            "Confusion Matrix:\n",
            "[[2541    0]\n",
            " [  95 2446]]\n",
            "\n",
            "\n",
            "Model: Random Forest\n",
            "Accuracy: 1.0000\n",
            "Precision: 1.0000\n",
            "Recall: 1.0000\n",
            "F1 Score: 1.0000\n",
            "ROC AUC: 1.0000\n",
            "Confusion Matrix:\n",
            "[[2541    0]\n",
            " [   0 2541]]\n",
            "\n",
            "\n"
          ]
        }
      ]
    }
  ]
}